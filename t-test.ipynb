{
 "cells": [
  {
   "cell_type": "markdown",
   "metadata": {
    "toc": true
   },
   "source": [
    "<h1>Table of Contents<span class=\"tocSkip\"></span></h1>\n",
    "<div class=\"toc\"><ul class=\"toc-item\"></ul></div>"
   ]
  },
  {
   "cell_type": "code",
   "execution_count": 47,
   "metadata": {},
   "outputs": [],
   "source": [
    "## Import the packages\n",
    "import numpy as np\n",
    "from scipy import stats\n",
    "import pandas as pd\n",
    "import pingouin as pg\n",
    "import seaborn as sns"
   ]
  },
  {
   "cell_type": "code",
   "execution_count": 270,
   "metadata": {
    "hide_input": false,
    "scrolled": true
   },
   "outputs": [
    {
     "data": {
      "text/plain": [
       "Index(['Phase', 'ID', 'Partner', 'Gender', 'Action', 'Disability',\n",
       "       'ProfMother', 'ProfFather', 'Age', 'AgeGroup', 'AttendHours',\n",
       "       'HoursPlanned', 'RelAttend', 'FacAge', 'FacGender', 'FacFemRatio',\n",
       "       'FacMalRatio', 'PartcFacRatio', 'FacConstancy', 'PreQ1', 'PreQ2',\n",
       "       'PreQ3', 'PreQ4', 'PreQ5', 'PreQ6', 'PreQ7', 'PreQ8', 'PreQ9', 'PreQ10',\n",
       "       'PreQ11', 'PreQ12', 'PreQ13', 'PreQ14', 'PreQ15', 'PreQ16', 'PreSelf1',\n",
       "       'PreSelf2', 'PreSelf3', 'PreQSum', 'PostQ1', 'PostQ2', 'PostQ3',\n",
       "       'PostQ4', 'PostQ5', 'PostQ6', 'PostQ7', 'PostQ8', 'PostQ9', 'PostQ10',\n",
       "       'PostQ11', 'PostQ12', 'PostQ13', 'PostQ14', 'PostQ15', 'PostQ16',\n",
       "       'PostSelf1', 'PostSelf2', 'PostSelf3', 'PostQSum', 'PreWf', 'PreEg',\n",
       "       'PreNe', 'PreVz', 'PreVth', 'PreBfa', 'PreBfu', 'PrePe', 'PreHu',\n",
       "       'PreUka', 'PreUkb', 'PreUkc', 'PreUkd', 'PreZf', 'PreTSDSum',\n",
       "       'PreTSDPR', 'PreTSDSummZf', 'PostWf', 'PostEg', 'PostNe', 'PostVz',\n",
       "       'PostVth', 'PostBfa', 'PostBfu', 'PostPe', 'PostHu', 'PostUka',\n",
       "       'PostUkb', 'PostUkc', 'PostUkd', 'PostZf', 'PostTSDSum', 'PostTSDPR',\n",
       "       'PostTSDSummZf'],\n",
       "      dtype='object')"
      ]
     },
     "execution_count": 270,
     "metadata": {},
     "output_type": "execute_result"
    }
   ],
   "source": [
    "data = pd.read_csv('data/all_data.csv')\n",
    "data.columns"
   ]
  },
  {
   "cell_type": "code",
   "execution_count": 229,
   "metadata": {},
   "outputs": [
    {
     "data": {
      "text/html": [
       "<div>\n",
       "<style scoped>\n",
       "    .dataframe tbody tr th:only-of-type {\n",
       "        vertical-align: middle;\n",
       "    }\n",
       "\n",
       "    .dataframe tbody tr th {\n",
       "        vertical-align: top;\n",
       "    }\n",
       "\n",
       "    .dataframe thead th {\n",
       "        text-align: right;\n",
       "    }\n",
       "</style>\n",
       "<table border=\"1\" class=\"dataframe\">\n",
       "  <thead>\n",
       "    <tr style=\"text-align: right;\">\n",
       "      <th></th>\n",
       "      <th>Phase</th>\n",
       "      <th>ID</th>\n",
       "      <th>Partner</th>\n",
       "      <th>Gender</th>\n",
       "      <th>Action</th>\n",
       "      <th>Disability</th>\n",
       "      <th>ProfMother</th>\n",
       "      <th>ProfFather</th>\n",
       "      <th>Age</th>\n",
       "      <th>AgeGroup</th>\n",
       "      <th>...</th>\n",
       "      <th>PostPe</th>\n",
       "      <th>PostHu</th>\n",
       "      <th>PostUka</th>\n",
       "      <th>PostUkb</th>\n",
       "      <th>PostUkc</th>\n",
       "      <th>PostUkd</th>\n",
       "      <th>PostZf</th>\n",
       "      <th>PostTSDSum</th>\n",
       "      <th>PostTSDPR</th>\n",
       "      <th>PostTSDSummZf</th>\n",
       "    </tr>\n",
       "  </thead>\n",
       "  <tbody>\n",
       "    <tr>\n",
       "      <th>0</th>\n",
       "      <td>2</td>\n",
       "      <td>educ23</td>\n",
       "      <td>5</td>\n",
       "      <td></td>\n",
       "      <td>1</td>\n",
       "      <td>0</td>\n",
       "      <td></td>\n",
       "      <td></td>\n",
       "      <td>12</td>\n",
       "      <td>2</td>\n",
       "      <td>...</td>\n",
       "      <td>0</td>\n",
       "      <td>0</td>\n",
       "      <td>0</td>\n",
       "      <td>0</td>\n",
       "      <td>0</td>\n",
       "      <td>0</td>\n",
       "      <td>2</td>\n",
       "      <td>15</td>\n",
       "      <td></td>\n",
       "      <td>13</td>\n",
       "    </tr>\n",
       "    <tr>\n",
       "      <th>1</th>\n",
       "      <td>1</td>\n",
       "      <td>eduC18</td>\n",
       "      <td>5</td>\n",
       "      <td>0</td>\n",
       "      <td>1</td>\n",
       "      <td>0</td>\n",
       "      <td>musea employee</td>\n",
       "      <td>musician</td>\n",
       "      <td></td>\n",
       "      <td></td>\n",
       "      <td>...</td>\n",
       "      <td>2</td>\n",
       "      <td>0</td>\n",
       "      <td>0</td>\n",
       "      <td>0</td>\n",
       "      <td>0</td>\n",
       "      <td>0</td>\n",
       "      <td>1</td>\n",
       "      <td>27</td>\n",
       "      <td></td>\n",
       "      <td>26</td>\n",
       "    </tr>\n",
       "    <tr>\n",
       "      <th>2</th>\n",
       "      <td>1</td>\n",
       "      <td>eduC07</td>\n",
       "      <td>5</td>\n",
       "      <td>0</td>\n",
       "      <td>1</td>\n",
       "      <td>0</td>\n",
       "      <td>/</td>\n",
       "      <td>/</td>\n",
       "      <td></td>\n",
       "      <td></td>\n",
       "      <td>...</td>\n",
       "      <td>0</td>\n",
       "      <td>0</td>\n",
       "      <td>0</td>\n",
       "      <td>0</td>\n",
       "      <td>3</td>\n",
       "      <td>0</td>\n",
       "      <td></td>\n",
       "      <td></td>\n",
       "      <td></td>\n",
       "      <td>25</td>\n",
       "    </tr>\n",
       "    <tr>\n",
       "      <th>3</th>\n",
       "      <td>1</td>\n",
       "      <td>eduC11</td>\n",
       "      <td>5</td>\n",
       "      <td>0</td>\n",
       "      <td>1</td>\n",
       "      <td>0</td>\n",
       "      <td>headmaster school</td>\n",
       "      <td>city employee</td>\n",
       "      <td></td>\n",
       "      <td></td>\n",
       "      <td>...</td>\n",
       "      <td>0</td>\n",
       "      <td>0</td>\n",
       "      <td>0</td>\n",
       "      <td>0</td>\n",
       "      <td>0</td>\n",
       "      <td>0</td>\n",
       "      <td>0</td>\n",
       "      <td>22</td>\n",
       "      <td></td>\n",
       "      <td>22</td>\n",
       "    </tr>\n",
       "    <tr>\n",
       "      <th>4</th>\n",
       "      <td>1</td>\n",
       "      <td>WAAG1B07</td>\n",
       "      <td>9</td>\n",
       "      <td>0</td>\n",
       "      <td>2</td>\n",
       "      <td>0</td>\n",
       "      <td></td>\n",
       "      <td></td>\n",
       "      <td></td>\n",
       "      <td></td>\n",
       "      <td>...</td>\n",
       "      <td>2</td>\n",
       "      <td>0</td>\n",
       "      <td>0</td>\n",
       "      <td>0</td>\n",
       "      <td>3</td>\n",
       "      <td>0</td>\n",
       "      <td>3</td>\n",
       "      <td></td>\n",
       "      <td></td>\n",
       "      <td>32</td>\n",
       "    </tr>\n",
       "    <tr>\n",
       "      <th>...</th>\n",
       "      <td>...</td>\n",
       "      <td>...</td>\n",
       "      <td>...</td>\n",
       "      <td>...</td>\n",
       "      <td>...</td>\n",
       "      <td>...</td>\n",
       "      <td>...</td>\n",
       "      <td>...</td>\n",
       "      <td>...</td>\n",
       "      <td>...</td>\n",
       "      <td>...</td>\n",
       "      <td>...</td>\n",
       "      <td>...</td>\n",
       "      <td>...</td>\n",
       "      <td>...</td>\n",
       "      <td>...</td>\n",
       "      <td>...</td>\n",
       "      <td>...</td>\n",
       "      <td>...</td>\n",
       "      <td>...</td>\n",
       "      <td>...</td>\n",
       "    </tr>\n",
       "    <tr>\n",
       "      <th>771</th>\n",
       "      <td>1</td>\n",
       "      <td>ZSI16</td>\n",
       "      <td>1</td>\n",
       "      <td>1</td>\n",
       "      <td>1</td>\n",
       "      <td>0</td>\n",
       "      <td></td>\n",
       "      <td>Mechanic</td>\n",
       "      <td>11</td>\n",
       "      <td>2</td>\n",
       "      <td>...</td>\n",
       "      <td>0</td>\n",
       "      <td>0</td>\n",
       "      <td>0</td>\n",
       "      <td>0</td>\n",
       "      <td>0</td>\n",
       "      <td>0</td>\n",
       "      <td>6</td>\n",
       "      <td>21</td>\n",
       "      <td>45</td>\n",
       "      <td>15</td>\n",
       "    </tr>\n",
       "    <tr>\n",
       "      <th>772</th>\n",
       "      <td>2</td>\n",
       "      <td>POLY96</td>\n",
       "      <td>4</td>\n",
       "      <td>1</td>\n",
       "      <td>5</td>\n",
       "      <td>0</td>\n",
       "      <td></td>\n",
       "      <td></td>\n",
       "      <td>14</td>\n",
       "      <td>2</td>\n",
       "      <td>...</td>\n",
       "      <td></td>\n",
       "      <td></td>\n",
       "      <td></td>\n",
       "      <td></td>\n",
       "      <td></td>\n",
       "      <td></td>\n",
       "      <td></td>\n",
       "      <td></td>\n",
       "      <td></td>\n",
       "      <td></td>\n",
       "    </tr>\n",
       "    <tr>\n",
       "      <th>773</th>\n",
       "      <td>2</td>\n",
       "      <td>MEPF0501</td>\n",
       "      <td>3</td>\n",
       "      <td>1</td>\n",
       "      <td>3</td>\n",
       "      <td>0</td>\n",
       "      <td></td>\n",
       "      <td></td>\n",
       "      <td>13</td>\n",
       "      <td>2</td>\n",
       "      <td>...</td>\n",
       "      <td>0</td>\n",
       "      <td>0</td>\n",
       "      <td>0</td>\n",
       "      <td>0</td>\n",
       "      <td>3</td>\n",
       "      <td>0</td>\n",
       "      <td>4</td>\n",
       "      <td>19</td>\n",
       "      <td></td>\n",
       "      <td>15</td>\n",
       "    </tr>\n",
       "    <tr>\n",
       "      <th>774</th>\n",
       "      <td>2</td>\n",
       "      <td>MEPF0504</td>\n",
       "      <td>3</td>\n",
       "      <td>1</td>\n",
       "      <td>3</td>\n",
       "      <td>0</td>\n",
       "      <td></td>\n",
       "      <td></td>\n",
       "      <td>12</td>\n",
       "      <td>2</td>\n",
       "      <td>...</td>\n",
       "      <td>0</td>\n",
       "      <td>0</td>\n",
       "      <td>3</td>\n",
       "      <td>0</td>\n",
       "      <td>0</td>\n",
       "      <td>0</td>\n",
       "      <td>4</td>\n",
       "      <td>29</td>\n",
       "      <td></td>\n",
       "      <td>25</td>\n",
       "    </tr>\n",
       "    <tr>\n",
       "      <th>775</th>\n",
       "      <td>2</td>\n",
       "      <td>LUT73</td>\n",
       "      <td>6</td>\n",
       "      <td>1</td>\n",
       "      <td>1</td>\n",
       "      <td>0</td>\n",
       "      <td></td>\n",
       "      <td></td>\n",
       "      <td>13</td>\n",
       "      <td>2</td>\n",
       "      <td>...</td>\n",
       "      <td></td>\n",
       "      <td></td>\n",
       "      <td></td>\n",
       "      <td></td>\n",
       "      <td></td>\n",
       "      <td></td>\n",
       "      <td></td>\n",
       "      <td></td>\n",
       "      <td></td>\n",
       "      <td></td>\n",
       "    </tr>\n",
       "  </tbody>\n",
       "</table>\n",
       "<p>775 rows × 93 columns</p>\n",
       "</div>"
      ],
      "text/plain": [
       "     Phase        ID  Partner Gender  Action  Disability         ProfMother  \\\n",
       "0        2    educ23        5              1           0                      \n",
       "1        1    eduC18        5      0       1           0     musea employee   \n",
       "2        1    eduC07        5      0       1           0                  /   \n",
       "3        1    eduC11        5      0       1           0  headmaster school   \n",
       "4        1  WAAG1B07        9      0       2           0                      \n",
       "..     ...       ...      ...    ...     ...         ...                ...   \n",
       "771      1     ZSI16        1      1       1           0                      \n",
       "772      2    POLY96        4      1       5           0                      \n",
       "773      2  MEPF0501        3      1       3           0                      \n",
       "774      2  MEPF0504        3      1       3           0                      \n",
       "775      2     LUT73        6      1       1           0                      \n",
       "\n",
       "        ProfFather Age AgeGroup  ... PostPe PostHu PostUka PostUkb PostUkc  \\\n",
       "0                   12        2  ...      0      0       0       0       0   \n",
       "1         musician               ...      2      0       0       0       0   \n",
       "2                /               ...      0      0       0       0       3   \n",
       "3    city employee               ...      0      0       0       0       0   \n",
       "4                                ...      2      0       0       0       3   \n",
       "..             ...  ..      ...  ...    ...    ...     ...     ...     ...   \n",
       "771       Mechanic  11        2  ...      0      0       0       0       0   \n",
       "772                 14        2  ...                                         \n",
       "773                 13        2  ...      0      0       0       0       3   \n",
       "774                 12        2  ...      0      0       3       0       0   \n",
       "775                 13        2  ...                                         \n",
       "\n",
       "    PostUkd PostZf PostTSDSum PostTSDPR  PostTSDSummZf  \n",
       "0         0      2         15                       13  \n",
       "1         0      1         27                       26  \n",
       "2         0                                         25  \n",
       "3         0      0         22                       22  \n",
       "4         0      3                                  32  \n",
       "..      ...    ...        ...       ...            ...  \n",
       "771       0      6         21        45             15  \n",
       "772                                                     \n",
       "773       0      4         19                       15  \n",
       "774       0      4         29                       25  \n",
       "775                                                     \n",
       "\n",
       "[775 rows x 93 columns]"
      ]
     },
     "execution_count": 229,
     "metadata": {},
     "output_type": "execute_result"
    }
   ],
   "source": [
    "data = data[data['PreQSum']<100]\n",
    "data"
   ]
  },
  {
   "cell_type": "code",
   "execution_count": 218,
   "metadata": {},
   "outputs": [
    {
     "name": "stdout",
     "output_type": "stream",
     "text": [
      "\n",
      " 54.92 \n",
      " 55.553548387096775\n"
     ]
    },
    {
     "data": {
      "text/plain": [
       "7.798622397224415"
      ]
     },
     "execution_count": 218,
     "metadata": {},
     "output_type": "execute_result"
    }
   ],
   "source": [
    "pre = data.PreQSum\n",
    "post = data.PostQSum\n",
    "\n",
    "gender = data.Gender\n",
    "\n",
    "mean_pre = pre.mean()\n",
    "mean_post = post.mean()\n",
    "print('\\n',mean_pre,'\\n',mean_post)\n",
    "\n",
    "post.std()"
   ]
  },
  {
   "cell_type": "code",
   "execution_count": 291,
   "metadata": {},
   "outputs": [
    {
     "data": {
      "text/plain": [
       "0.479328165374677"
      ]
     },
     "execution_count": 291,
     "metadata": {},
     "output_type": "execute_result"
    }
   ],
   "source": [
    "371/774"
   ]
  },
  {
   "cell_type": "code",
   "execution_count": 167,
   "metadata": {},
   "outputs": [
    {
     "data": {
      "text/plain": [
       "Gender\n",
       "       1\n",
       "0    371\n",
       "1    403\n",
       "Name: Gender, dtype: int64"
      ]
     },
     "execution_count": 167,
     "metadata": {},
     "output_type": "execute_result"
    }
   ],
   "source": [
    "# female = '0'\n",
    "gender.groupby(gender).count()"
   ]
  },
  {
   "cell_type": "code",
   "execution_count": null,
   "metadata": {},
   "outputs": [],
   "source": [
    "# zentrale Tendenz (hier arithm. Mittel) \n",
    "# CI confidence intervall (1 standardabweichung = 68%); entspricht standard- oder stichprobenfehler\n",
    "# CI = 95  (zwei Standardabweichung),d.h. 95% aller Werte liegen innerhalb des roten Bandes \n"
   ]
  },
  {
   "cell_type": "code",
   "execution_count": 327,
   "metadata": {
    "scrolled": false
   },
   "outputs": [
    {
     "name": "stderr",
     "output_type": "stream",
     "text": [
      "<ipython-input-327-8eea3c0f6781>:9: UserWarning: FixedFormatter should only be used together with FixedLocator\n",
      "  g.set_yticklabels(g.get_yticks(), size = 15)\n",
      "<ipython-input-327-8eea3c0f6781>:10: UserWarning: FixedFormatter should only be used together with FixedLocator\n",
      "  g.set_xticklabels(g.get_xticks(), size = 15)\n"
     ]
    },
    {
     "data": {
      "text/plain": [
       "[Text(30.0, 0, '30.0'),\n",
       " Text(40.0, 0, '40.0'),\n",
       " Text(50.0, 0, '50.0'),\n",
       " Text(60.0, 0, '60.0'),\n",
       " Text(70.0, 0, '70.0'),\n",
       " Text(80.0, 0, '80.0'),\n",
       " Text(90.0, 0, '90.0')]"
      ]
     },
     "execution_count": 327,
     "metadata": {},
     "output_type": "execute_result"
    },
    {
     "data": {
      "image/png": "[encoded data removed]",
      "text/plain": [
       "<Figure size 864x432 with 1 Axes>"
      ]
     },
     "metadata": {},
     "output_type": "display_data"
    }
   ],
   "source": [
    "sns.set(rc={'figure.figsize':(12,6)})\n",
    "sns.set_style('ticks')\n",
    "\n",
    "g = sns.scatterplot(x=pre,y=post, s = 20, hue = gender)\n",
    "g = sns.lineplot (x=pre,y=post, ci=None, color='darkred') \n",
    "\n",
    "g.set(xlim=(30, 85))\n",
    "g.set(ylim=(30, 85))\n",
    "g.set_yticklabels(g.get_yticks(), size = 15)\n",
    "g.set_xticklabels(g.get_xticks(), size = 15)"
   ]
  },
  {
   "cell_type": "code",
   "execution_count": 179,
   "metadata": {},
   "outputs": [
    {
     "data": {
      "text/plain": [
       "<seaborn.axisgrid.JointGrid at 0x124250490>"
      ]
     },
     "execution_count": 179,
     "metadata": {},
     "output_type": "execute_result"
    },
    {
     "data": {
      "image/png": "[encoded data removed]",
      "text/plain": [
       "<Figure size 432x432 with 3 Axes>"
      ]
     },
     "metadata": {
      "needs_background": "light"
     },
     "output_type": "display_data"
    },
    {
     "data": {
      "image/png": "[encoded data removed]",
      "text/plain": [
       "<Figure size 432x432 with 3 Axes>"
      ]
     },
     "metadata": {
      "needs_background": "light"
     },
     "output_type": "display_data"
    }
   ],
   "source": [
    "sns.jointplot(x=pre,y=post, kind='hist')\n",
    "sns.jointplot(x=pre,y=post, kind='reg')\n"
   ]
  },
  {
   "cell_type": "code",
   "execution_count": 125,
   "metadata": {
    "scrolled": true
   },
   "outputs": [
    {
     "data": {
      "text/plain": [
       "<AxesSubplot:xlabel='PreQSum', ylabel='PostQSum'>"
      ]
     },
     "execution_count": 125,
     "metadata": {},
     "output_type": "execute_result"
    },
    {
     "data": {
      "image/png": "[encoded data removed]",
      "text/plain": [
       "<Figure size 432x288 with 1 Axes>"
      ]
     },
     "metadata": {
      "needs_background": "light"
     },
     "output_type": "display_data"
    }
   ],
   "source": [
    "# By default, the plot aggregates over multiple y values at each value of x and shows an estimate of the central tendency and a confidence interval for that estimate.\n",
    "sns.lineplot (x=pre,y=post, color = 'red')"
   ]
  },
  {
   "cell_type": "code",
   "execution_count": 311,
   "metadata": {},
   "outputs": [
    {
     "data": {
      "text/plain": [
       "0.6335483870967742"
      ]
     },
     "execution_count": 311,
     "metadata": {},
     "output_type": "execute_result"
    }
   ],
   "source": [
    "data['change']=post - pre\n",
    "data.change.mean()"
   ]
  },
  {
   "cell_type": "code",
   "execution_count": 329,
   "metadata": {},
   "outputs": [
    {
     "name": "stderr",
     "output_type": "stream",
     "text": [
      "<ipython-input-329-1ea65c35f595>:4: UserWarning: FixedFormatter should only be used together with FixedLocator\n",
      "  ge.set_yticklabels(ge.get_yticks(), size = 20)\n",
      "<ipython-input-329-1ea65c35f595>:5: UserWarning: FixedFormatter should only be used together with FixedLocator\n",
      "  ge.set_xticklabels(ge.get_xticks(), size = 20)\n"
     ]
    },
    {
     "data": {
      "text/plain": [
       "[Text(-30.0, 0, '-30.0'),\n",
       " Text(-20.0, 0, '-20.0'),\n",
       " Text(-10.0, 0, '-10.0'),\n",
       " Text(0.0, 0, '0.0'),\n",
       " Text(10.0, 0, '10.0'),\n",
       " Text(20.0, 0, '20.0'),\n",
       " Text(30.0, 0, '30.0'),\n",
       " Text(40.0, 0, '40.0')]"
      ]
     },
     "execution_count": 329,
     "metadata": {},
     "output_type": "execute_result"
    },
    {
     "data": {
      "image/png": "[encoded data removed]",
      "text/plain": [
       "<Figure size 432x432 with 1 Axes>"
      ]
     },
     "metadata": {},
     "output_type": "display_data"
    }
   ],
   "source": [
    "ge = sns.set(rc={'figure.figsize':(6,6)})\n",
    "ge = sns.set_style('ticks')\n",
    "ge = sns.histplot(data.change,kde=False)\n",
    "ge.set_yticklabels(ge.get_yticks(), size = 20)\n",
    "ge.set_xticklabels(ge.get_xticks(), size = 20)\n"
   ]
  },
  {
   "cell_type": "code",
   "execution_count": 100,
   "metadata": {},
   "outputs": [
    {
     "data": {
      "text/html": [
       "<div>\n",
       "<style scoped>\n",
       "    .dataframe tbody tr th:only-of-type {\n",
       "        vertical-align: middle;\n",
       "    }\n",
       "\n",
       "    .dataframe tbody tr th {\n",
       "        vertical-align: top;\n",
       "    }\n",
       "\n",
       "    .dataframe thead th {\n",
       "        text-align: right;\n",
       "    }\n",
       "</style>\n",
       "<table border=\"1\" class=\"dataframe\">\n",
       "  <thead>\n",
       "    <tr style=\"text-align: right;\">\n",
       "      <th></th>\n",
       "      <th>T</th>\n",
       "      <th>dof</th>\n",
       "      <th>tail</th>\n",
       "      <th>p-val</th>\n",
       "      <th>CI95%</th>\n",
       "      <th>cohen-d</th>\n",
       "      <th>BF10</th>\n",
       "      <th>power</th>\n",
       "    </tr>\n",
       "  </thead>\n",
       "  <tbody>\n",
       "    <tr>\n",
       "      <th>T-test</th>\n",
       "      <td>3.54</td>\n",
       "      <td>774</td>\n",
       "      <td>two-sided</td>\n",
       "      <td>0.0</td>\n",
       "      <td>[0.28, 0.98]</td>\n",
       "      <td>0.13</td>\n",
       "      <td>19.839</td>\n",
       "      <td>0.94</td>\n",
       "    </tr>\n",
       "  </tbody>\n",
       "</table>\n",
       "</div>"
      ],
      "text/plain": [
       "           T  dof       tail  p-val         CI95%  cohen-d    BF10  power\n",
       "T-test  3.54  774  two-sided    0.0  [0.28, 0.98]     0.13  19.839   0.94"
      ]
     },
     "execution_count": 100,
     "metadata": {},
     "output_type": "execute_result"
    }
   ],
   "source": [
    "# \n",
    "pg.ttest(data.change, y=0).round(2)"
   ]
  },
  {
   "cell_type": "code",
   "execution_count": 102,
   "metadata": {},
   "outputs": [
    {
     "data": {
      "text/html": [
       "<div>\n",
       "<style scoped>\n",
       "    .dataframe tbody tr th:only-of-type {\n",
       "        vertical-align: middle;\n",
       "    }\n",
       "\n",
       "    .dataframe tbody tr th {\n",
       "        vertical-align: top;\n",
       "    }\n",
       "\n",
       "    .dataframe thead th {\n",
       "        text-align: right;\n",
       "    }\n",
       "</style>\n",
       "<table border=\"1\" class=\"dataframe\">\n",
       "  <thead>\n",
       "    <tr style=\"text-align: right;\">\n",
       "      <th></th>\n",
       "      <th>T</th>\n",
       "      <th>dof</th>\n",
       "      <th>tail</th>\n",
       "      <th>p-val</th>\n",
       "      <th>CI95%</th>\n",
       "      <th>cohen-d</th>\n",
       "      <th>BF10</th>\n",
       "      <th>power</th>\n",
       "    </tr>\n",
       "  </thead>\n",
       "  <tbody>\n",
       "    <tr>\n",
       "      <th>T-test</th>\n",
       "      <td>-3.54</td>\n",
       "      <td>774</td>\n",
       "      <td>two-sided</td>\n",
       "      <td>0.0</td>\n",
       "      <td>[-0.98, -0.28]</td>\n",
       "      <td>0.08</td>\n",
       "      <td>19.839</td>\n",
       "      <td>0.65</td>\n",
       "    </tr>\n",
       "  </tbody>\n",
       "</table>\n",
       "</div>"
      ],
      "text/plain": [
       "           T  dof       tail  p-val           CI95%  cohen-d    BF10  power\n",
       "T-test -3.54  774  two-sided    0.0  [-0.98, -0.28]     0.08  19.839   0.65"
      ]
     },
     "execution_count": 102,
     "metadata": {},
     "output_type": "execute_result"
    }
   ],
   "source": [
    "# paired 2 group test \n",
    "pg.ttest(x=pre, y=post, paired=True).round(2)"
   ]
  },
  {
   "cell_type": "code",
   "execution_count": 313,
   "metadata": {},
   "outputs": [
    {
     "name": "stdout",
     "output_type": "stream",
     "text": [
      "The value of W is nan, p=1.0\n"
     ]
    }
   ],
   "source": [
    "W, p=stats.shapiro(x=data.change)\n",
    "\n",
    "print(f\"The value of W is {W}, p={p}\")"
   ]
  },
  {
   "cell_type": "code",
   "execution_count": 110,
   "metadata": {},
   "outputs": [
    {
     "data": {
      "text/plain": [
       "<AxesSubplot:xlabel='PreQSum', ylabel='Count'>"
      ]
     },
     "execution_count": 110,
     "metadata": {},
     "output_type": "execute_result"
    },
    {
     "data": {
      "image/png": "[encoded data removed]",
      "text/plain": [
       "<Figure size 432x288 with 1 Axes>"
      ]
     },
     "metadata": {
      "needs_background": "light"
     },
     "output_type": "display_data"
    }
   ],
   "source": [
    "sns.histplot(pre,kde=False)"
   ]
  },
  {
   "cell_type": "code",
   "execution_count": 242,
   "metadata": {},
   "outputs": [
    {
     "name": "stdout",
     "output_type": "stream",
     "text": [
      "\n",
      " 18.79073756432247 \n",
      " 20.363951473136915\n"
     ]
    },
    {
     "data": {
      "text/html": [
       "<div>\n",
       "<style scoped>\n",
       "    .dataframe tbody tr th:only-of-type {\n",
       "        vertical-align: middle;\n",
       "    }\n",
       "\n",
       "    .dataframe tbody tr th {\n",
       "        vertical-align: top;\n",
       "    }\n",
       "\n",
       "    .dataframe thead th {\n",
       "        text-align: right;\n",
       "    }\n",
       "</style>\n",
       "<table border=\"1\" class=\"dataframe\">\n",
       "  <thead>\n",
       "    <tr style=\"text-align: right;\">\n",
       "      <th></th>\n",
       "      <th>Phase</th>\n",
       "      <th>ID</th>\n",
       "      <th>Partner</th>\n",
       "      <th>Gender</th>\n",
       "      <th>Action</th>\n",
       "      <th>Disability</th>\n",
       "      <th>ProfMother</th>\n",
       "      <th>ProfFather</th>\n",
       "      <th>Age</th>\n",
       "      <th>AgeGroup</th>\n",
       "      <th>...</th>\n",
       "      <th>PostPe</th>\n",
       "      <th>PostHu</th>\n",
       "      <th>PostUka</th>\n",
       "      <th>PostUkb</th>\n",
       "      <th>PostUkc</th>\n",
       "      <th>PostUkd</th>\n",
       "      <th>PostZf</th>\n",
       "      <th>PostTSDSum</th>\n",
       "      <th>PostTSDPR</th>\n",
       "      <th>PostTSDSummZf</th>\n",
       "    </tr>\n",
       "  </thead>\n",
       "  <tbody>\n",
       "    <tr>\n",
       "      <th>0</th>\n",
       "      <td>2</td>\n",
       "      <td>educ23</td>\n",
       "      <td>5</td>\n",
       "      <td></td>\n",
       "      <td>1</td>\n",
       "      <td>0</td>\n",
       "      <td></td>\n",
       "      <td></td>\n",
       "      <td>12</td>\n",
       "      <td>2</td>\n",
       "      <td>...</td>\n",
       "      <td>0</td>\n",
       "      <td>0</td>\n",
       "      <td>0</td>\n",
       "      <td>0</td>\n",
       "      <td>0</td>\n",
       "      <td>0</td>\n",
       "      <td>2</td>\n",
       "      <td>15</td>\n",
       "      <td></td>\n",
       "      <td>13</td>\n",
       "    </tr>\n",
       "    <tr>\n",
       "      <th>1</th>\n",
       "      <td>1</td>\n",
       "      <td>eduC18</td>\n",
       "      <td>5</td>\n",
       "      <td>0</td>\n",
       "      <td>1</td>\n",
       "      <td>0</td>\n",
       "      <td>musea employee</td>\n",
       "      <td>musician</td>\n",
       "      <td></td>\n",
       "      <td></td>\n",
       "      <td>...</td>\n",
       "      <td>2</td>\n",
       "      <td>0</td>\n",
       "      <td>0</td>\n",
       "      <td>0</td>\n",
       "      <td>0</td>\n",
       "      <td>0</td>\n",
       "      <td>1</td>\n",
       "      <td>27</td>\n",
       "      <td></td>\n",
       "      <td>26</td>\n",
       "    </tr>\n",
       "    <tr>\n",
       "      <th>2</th>\n",
       "      <td>1</td>\n",
       "      <td>eduC07</td>\n",
       "      <td>5</td>\n",
       "      <td>0</td>\n",
       "      <td>1</td>\n",
       "      <td>0</td>\n",
       "      <td>/</td>\n",
       "      <td>/</td>\n",
       "      <td></td>\n",
       "      <td></td>\n",
       "      <td>...</td>\n",
       "      <td>0</td>\n",
       "      <td>0</td>\n",
       "      <td>0</td>\n",
       "      <td>0</td>\n",
       "      <td>3</td>\n",
       "      <td>0</td>\n",
       "      <td></td>\n",
       "      <td></td>\n",
       "      <td></td>\n",
       "      <td>25</td>\n",
       "    </tr>\n",
       "    <tr>\n",
       "      <th>3</th>\n",
       "      <td>1</td>\n",
       "      <td>eduC11</td>\n",
       "      <td>5</td>\n",
       "      <td>0</td>\n",
       "      <td>1</td>\n",
       "      <td>0</td>\n",
       "      <td>headmaster school</td>\n",
       "      <td>city employee</td>\n",
       "      <td></td>\n",
       "      <td></td>\n",
       "      <td>...</td>\n",
       "      <td>0</td>\n",
       "      <td>0</td>\n",
       "      <td>0</td>\n",
       "      <td>0</td>\n",
       "      <td>0</td>\n",
       "      <td>0</td>\n",
       "      <td>0</td>\n",
       "      <td>22</td>\n",
       "      <td></td>\n",
       "      <td>22</td>\n",
       "    </tr>\n",
       "    <tr>\n",
       "      <th>4</th>\n",
       "      <td>1</td>\n",
       "      <td>WAAG1B07</td>\n",
       "      <td>9</td>\n",
       "      <td>0</td>\n",
       "      <td>2</td>\n",
       "      <td>0</td>\n",
       "      <td></td>\n",
       "      <td></td>\n",
       "      <td></td>\n",
       "      <td></td>\n",
       "      <td>...</td>\n",
       "      <td>2</td>\n",
       "      <td>0</td>\n",
       "      <td>0</td>\n",
       "      <td>0</td>\n",
       "      <td>3</td>\n",
       "      <td>0</td>\n",
       "      <td>3</td>\n",
       "      <td></td>\n",
       "      <td></td>\n",
       "      <td>32</td>\n",
       "    </tr>\n",
       "    <tr>\n",
       "      <th>...</th>\n",
       "      <td>...</td>\n",
       "      <td>...</td>\n",
       "      <td>...</td>\n",
       "      <td>...</td>\n",
       "      <td>...</td>\n",
       "      <td>...</td>\n",
       "      <td>...</td>\n",
       "      <td>...</td>\n",
       "      <td>...</td>\n",
       "      <td>...</td>\n",
       "      <td>...</td>\n",
       "      <td>...</td>\n",
       "      <td>...</td>\n",
       "      <td>...</td>\n",
       "      <td>...</td>\n",
       "      <td>...</td>\n",
       "      <td>...</td>\n",
       "      <td>...</td>\n",
       "      <td>...</td>\n",
       "      <td>...</td>\n",
       "      <td>...</td>\n",
       "    </tr>\n",
       "    <tr>\n",
       "      <th>768</th>\n",
       "      <td>2</td>\n",
       "      <td>educ41</td>\n",
       "      <td>5</td>\n",
       "      <td>1</td>\n",
       "      <td>1</td>\n",
       "      <td>0</td>\n",
       "      <td></td>\n",
       "      <td></td>\n",
       "      <td>12</td>\n",
       "      <td>2</td>\n",
       "      <td>...</td>\n",
       "      <td>0</td>\n",
       "      <td>0</td>\n",
       "      <td>0</td>\n",
       "      <td>0</td>\n",
       "      <td>0</td>\n",
       "      <td>0</td>\n",
       "      <td>2</td>\n",
       "      <td>28</td>\n",
       "      <td></td>\n",
       "      <td>26</td>\n",
       "    </tr>\n",
       "    <tr>\n",
       "      <th>769</th>\n",
       "      <td>2</td>\n",
       "      <td>ZSI0223</td>\n",
       "      <td>1</td>\n",
       "      <td>1</td>\n",
       "      <td>1</td>\n",
       "      <td>0</td>\n",
       "      <td></td>\n",
       "      <td></td>\n",
       "      <td>15</td>\n",
       "      <td>2</td>\n",
       "      <td>...</td>\n",
       "      <td>0</td>\n",
       "      <td>0</td>\n",
       "      <td>0</td>\n",
       "      <td>0</td>\n",
       "      <td>3</td>\n",
       "      <td>0</td>\n",
       "      <td>1</td>\n",
       "      <td></td>\n",
       "      <td></td>\n",
       "      <td>13</td>\n",
       "    </tr>\n",
       "    <tr>\n",
       "      <th>771</th>\n",
       "      <td>1</td>\n",
       "      <td>ZSI16</td>\n",
       "      <td>1</td>\n",
       "      <td>1</td>\n",
       "      <td>1</td>\n",
       "      <td>0</td>\n",
       "      <td></td>\n",
       "      <td>Mechanic</td>\n",
       "      <td>11</td>\n",
       "      <td>2</td>\n",
       "      <td>...</td>\n",
       "      <td>0</td>\n",
       "      <td>0</td>\n",
       "      <td>0</td>\n",
       "      <td>0</td>\n",
       "      <td>0</td>\n",
       "      <td>0</td>\n",
       "      <td>6</td>\n",
       "      <td>21</td>\n",
       "      <td>45</td>\n",
       "      <td>15</td>\n",
       "    </tr>\n",
       "    <tr>\n",
       "      <th>773</th>\n",
       "      <td>2</td>\n",
       "      <td>MEPF0501</td>\n",
       "      <td>3</td>\n",
       "      <td>1</td>\n",
       "      <td>3</td>\n",
       "      <td>0</td>\n",
       "      <td></td>\n",
       "      <td></td>\n",
       "      <td>13</td>\n",
       "      <td>2</td>\n",
       "      <td>...</td>\n",
       "      <td>0</td>\n",
       "      <td>0</td>\n",
       "      <td>0</td>\n",
       "      <td>0</td>\n",
       "      <td>3</td>\n",
       "      <td>0</td>\n",
       "      <td>4</td>\n",
       "      <td>19</td>\n",
       "      <td></td>\n",
       "      <td>15</td>\n",
       "    </tr>\n",
       "    <tr>\n",
       "      <th>774</th>\n",
       "      <td>2</td>\n",
       "      <td>MEPF0504</td>\n",
       "      <td>3</td>\n",
       "      <td>1</td>\n",
       "      <td>3</td>\n",
       "      <td>0</td>\n",
       "      <td></td>\n",
       "      <td></td>\n",
       "      <td>12</td>\n",
       "      <td>2</td>\n",
       "      <td>...</td>\n",
       "      <td>0</td>\n",
       "      <td>0</td>\n",
       "      <td>3</td>\n",
       "      <td>0</td>\n",
       "      <td>0</td>\n",
       "      <td>0</td>\n",
       "      <td>4</td>\n",
       "      <td>29</td>\n",
       "      <td></td>\n",
       "      <td>25</td>\n",
       "    </tr>\n",
       "  </tbody>\n",
       "</table>\n",
       "<p>577 rows × 93 columns</p>\n",
       "</div>"
      ],
      "text/plain": [
       "     Phase        ID  Partner Gender  Action  Disability         ProfMother  \\\n",
       "0        2    educ23        5              1           0                      \n",
       "1        1    eduC18        5      0       1           0     musea employee   \n",
       "2        1    eduC07        5      0       1           0                  /   \n",
       "3        1    eduC11        5      0       1           0  headmaster school   \n",
       "4        1  WAAG1B07        9      0       2           0                      \n",
       "..     ...       ...      ...    ...     ...         ...                ...   \n",
       "768      2    educ41        5      1       1           0                      \n",
       "769      2   ZSI0223        1      1       1           0                      \n",
       "771      1     ZSI16        1      1       1           0                      \n",
       "773      2  MEPF0501        3      1       3           0                      \n",
       "774      2  MEPF0504        3      1       3           0                      \n",
       "\n",
       "        ProfFather Age AgeGroup  ... PostPe PostHu PostUka PostUkb PostUkc  \\\n",
       "0                   12        2  ...      0      0       0       0       0   \n",
       "1         musician               ...      2      0       0       0       0   \n",
       "2                /               ...      0      0       0       0       3   \n",
       "3    city employee               ...      0      0       0       0       0   \n",
       "4                                ...      2      0       0       0       3   \n",
       "..             ...  ..      ...  ...    ...    ...     ...     ...     ...   \n",
       "768                 12        2  ...      0      0       0       0       0   \n",
       "769                 15        2  ...      0      0       0       0       3   \n",
       "771       Mechanic  11        2  ...      0      0       0       0       0   \n",
       "773                 13        2  ...      0      0       0       0       3   \n",
       "774                 12        2  ...      0      0       3       0       0   \n",
       "\n",
       "    PostUkd PostZf PostTSDSum PostTSDPR  PostTSDSummZf  \n",
       "0         0      2         15                       13  \n",
       "1         0      1         27                       26  \n",
       "2         0                                         25  \n",
       "3         0      0         22                       22  \n",
       "4         0      3                                  32  \n",
       "..      ...    ...        ...       ...            ...  \n",
       "768       0      2         28                       26  \n",
       "769       0      1                                  13  \n",
       "771       0      6         21        45             15  \n",
       "773       0      4         19                       15  \n",
       "774       0      4         29                       25  \n",
       "\n",
       "[577 rows x 93 columns]"
      ]
     },
     "execution_count": 242,
     "metadata": {},
     "output_type": "execute_result"
    }
   ],
   "source": [
    "pre_c = pd.to_numeric(data.PreTSDSummZf, errors='coerce')\n",
    "post_c = pd.to_numeric(data.PostTSDSummZf, errors='coerce')\n",
    "mean_pre_c = pre_c.mean()\n",
    "mean_post_c = post_c.mean()\n",
    "print('\\n',mean_pre_c,'\\n',mean_post_c)\n",
    "\n",
    "#data_c ['PreTSDSummZf'] = pd.to_numeric(data_c['PreTSDSummZf'])\n",
    "data_c"
   ]
  },
  {
   "cell_type": "code",
   "execution_count": 301,
   "metadata": {},
   "outputs": [
    {
     "data": {
      "text/plain": [
       "1.6031195840554593"
      ]
     },
     "execution_count": 301,
     "metadata": {},
     "output_type": "execute_result"
    }
   ],
   "source": [
    "data['change_c']=post_c - pre_c\n",
    "data.change_c.mean()"
   ]
  },
  {
   "cell_type": "code",
   "execution_count": 325,
   "metadata": {
    "scrolled": false
   },
   "outputs": [
    {
     "name": "stderr",
     "output_type": "stream",
     "text": [
      "<ipython-input-325-643a9319c528>:4: UserWarning: FixedFormatter should only be used together with FixedLocator\n",
      "  gch.set_yticklabels(gch.get_yticks(), size = 20)\n",
      "<ipython-input-325-643a9319c528>:5: UserWarning: FixedFormatter should only be used together with FixedLocator\n",
      "  gch.set_xticklabels(gch.get_xticks(), size = 20)\n"
     ]
    },
    {
     "data": {
      "text/plain": [
       "[Text(-30.0, 0, '-30.0'),\n",
       " Text(-20.0, 0, '-20.0'),\n",
       " Text(-10.0, 0, '-10.0'),\n",
       " Text(0.0, 0, '0.0'),\n",
       " Text(10.0, 0, '10.0'),\n",
       " Text(20.0, 0, '20.0'),\n",
       " Text(30.0, 0, '30.0')]"
      ]
     },
     "execution_count": 325,
     "metadata": {},
     "output_type": "execute_result"
    },
    {
     "data": {
      "image/png": "[encoded data removed]",
      "text/plain": [
       "<Figure size 432x432 with 1 Axes>"
      ]
     },
     "metadata": {},
     "output_type": "display_data"
    }
   ],
   "source": [
    "gch = sns.set(rc={'figure.figsize':(6,6)})\n",
    "gch = sns.set_style('ticks')\n",
    "gch = sns.histplot(data.change_c,kde=False)\n",
    "gch.set_yticklabels(gch.get_yticks(), size = 20)\n",
    "gch.set_xticklabels(gch.get_xticks(), size = 20)"
   ]
  },
  {
   "cell_type": "code",
   "execution_count": 308,
   "metadata": {},
   "outputs": [
    {
     "name": "stdout",
     "output_type": "stream",
     "text": [
      "The value of W is nan, p=1.0\n"
     ]
    }
   ],
   "source": [
    "# test auf normalverteilung \n",
    "W, p=stats.shapiro(x=data.change_c)\n",
    "p = round(p, 2)\n",
    "\n",
    "print(f\"The value of W is {W}, p={p}\")"
   ]
  },
  {
   "cell_type": "code",
   "execution_count": 322,
   "metadata": {},
   "outputs": [
    {
     "name": "stderr",
     "output_type": "stream",
     "text": [
      "<ipython-input-322-486aeda76de5>:6: UserWarning: FixedFormatter should only be used together with FixedLocator\n",
      "  gc.set_yticklabels(gc.get_yticks(), size = 15)\n",
      "<ipython-input-322-486aeda76de5>:7: UserWarning: FixedFormatter should only be used together with FixedLocator\n",
      "  gc.set_xticklabels(gc.get_xticks(), size = 15)\n"
     ]
    },
    {
     "data": {
      "text/plain": [
       "[Text(-10.0, 0, '-10.0'),\n",
       " Text(0.0, 0, '0.0'),\n",
       " Text(10.0, 0, '10.0'),\n",
       " Text(20.0, 0, '20.0'),\n",
       " Text(30.0, 0, '30.0'),\n",
       " Text(40.0, 0, '40.0'),\n",
       " Text(50.0, 0, '50.0'),\n",
       " Text(60.0, 0, '60.0')]"
      ]
     },
     "execution_count": 322,
     "metadata": {},
     "output_type": "execute_result"
    },
    {
     "data": {
      "image/png": "[encoded data removed]",
      "text/plain": [
       "<Figure size 864x432 with 1 Axes>"
      ]
     },
     "metadata": {},
     "output_type": "display_data"
    }
   ],
   "source": [
    "sns.set(rc={'figure.figsize':(12,6)})\n",
    "sns.set_style('ticks')\n",
    "gc = sns.scatterplot(x=pre_c,y=post_c, s = 20, hue = gender)\n",
    "gc = sns.lineplot (x=pre_c,y=post_c, ci=None, color='darkred') \n",
    "#gc = sns.lineplot (x=pre_c,y=post_c, ci=95, color='darkred') \n",
    "gc.set_yticklabels(gc.get_yticks(), size = 15)\n",
    "gc.set_xticklabels(gc.get_xticks(), size = 15)"
   ]
  },
  {
   "cell_type": "code",
   "execution_count": 300,
   "metadata": {},
   "outputs": [
    {
     "data": {
      "text/html": [
       "<div>\n",
       "<style scoped>\n",
       "    .dataframe tbody tr th:only-of-type {\n",
       "        vertical-align: middle;\n",
       "    }\n",
       "\n",
       "    .dataframe tbody tr th {\n",
       "        vertical-align: top;\n",
       "    }\n",
       "\n",
       "    .dataframe thead th {\n",
       "        text-align: right;\n",
       "    }\n",
       "</style>\n",
       "<table border=\"1\" class=\"dataframe\">\n",
       "  <thead>\n",
       "    <tr style=\"text-align: right;\">\n",
       "      <th></th>\n",
       "      <th>T</th>\n",
       "      <th>dof</th>\n",
       "      <th>tail</th>\n",
       "      <th>p-val</th>\n",
       "      <th>CI95%</th>\n",
       "      <th>cohen-d</th>\n",
       "      <th>BF10</th>\n",
       "      <th>power</th>\n",
       "    </tr>\n",
       "  </thead>\n",
       "  <tbody>\n",
       "    <tr>\n",
       "      <th>T-test</th>\n",
       "      <td>4.98</td>\n",
       "      <td>576</td>\n",
       "      <td>two-sided</td>\n",
       "      <td>0.0</td>\n",
       "      <td>[0.97, 2.24]</td>\n",
       "      <td>0.2</td>\n",
       "      <td>8242.849</td>\n",
       "      <td>1.0</td>\n",
       "    </tr>\n",
       "  </tbody>\n",
       "</table>\n",
       "</div>"
      ],
      "text/plain": [
       "           T  dof       tail  p-val         CI95%  cohen-d      BF10  power\n",
       "T-test  4.98  576  two-sided    0.0  [0.97, 2.24]      0.2  8242.849    1.0"
      ]
     },
     "execution_count": 300,
     "metadata": {},
     "output_type": "execute_result"
    }
   ],
   "source": [
    "pg.ttest(x=post_c, y=pre_c, paired=True).round(2)"
   ]
  },
  {
   "cell_type": "code",
   "execution_count": 320,
   "metadata": {},
   "outputs": [
    {
     "data": {
      "text/html": [
       "<div>\n",
       "<style scoped>\n",
       "    .dataframe tbody tr th:only-of-type {\n",
       "        vertical-align: middle;\n",
       "    }\n",
       "\n",
       "    .dataframe tbody tr th {\n",
       "        vertical-align: top;\n",
       "    }\n",
       "\n",
       "    .dataframe thead th {\n",
       "        text-align: right;\n",
       "    }\n",
       "</style>\n",
       "<table border=\"1\" class=\"dataframe\">\n",
       "  <thead>\n",
       "    <tr style=\"text-align: right;\">\n",
       "      <th></th>\n",
       "      <th>mean</th>\n",
       "      <th>lower 95CI</th>\n",
       "      <th>upper 95CI</th>\n",
       "    </tr>\n",
       "  </thead>\n",
       "  <tbody>\n",
       "    <tr>\n",
       "      <th>0</th>\n",
       "      <td>1.6</td>\n",
       "      <td>NaN</td>\n",
       "      <td>NaN</td>\n",
       "    </tr>\n",
       "  </tbody>\n",
       "</table>\n",
       "</div>"
      ],
      "text/plain": [
       "   mean  lower 95CI  upper 95CI\n",
       "0   1.6         NaN         NaN"
      ]
     },
     "execution_count": 320,
     "metadata": {},
     "output_type": "execute_result"
    }
   ],
   "source": [
    "def mean_confidence_interval(change_c, confidence=0.95):\n",
    "    a = change_c\n",
    "    n = len(a)\n",
    "    m, se = np.mean(a), stats.sem(a)\n",
    "    h = se * stats.t.ppf((1 + confidence) / 2., n-1)\n",
    "    return pd.DataFrame({\"mean\":[m], \"lower 95CI\": [m-h], \"upper 95CI\":[m+h]})\n",
    "\n",
    "mean_confidence_interval(data.change_c).round(2)"
   ]
  },
  {
   "cell_type": "code",
   "execution_count": 253,
   "metadata": {},
   "outputs": [
    {
     "data": {
      "text/plain": [
       "1            musea employee\n",
       "2                         /\n",
       "3         headmaster school\n",
       "6      scientific projectma\n",
       "10       cinema coordinator\n",
       "               ...         \n",
       "738                      DN\n",
       "743                      DN\n",
       "749                 Teacher\n",
       "761       hospital employee\n",
       "765               Professor\n",
       "Name: ProfMother, Length: 175, dtype: object"
      ]
     },
     "execution_count": 253,
     "metadata": {},
     "output_type": "execute_result"
    }
   ],
   "source": [
    "professions = data.ProfMother[data.ProfMother != ' ']\n",
    "professions"
   ]
  },
  {
   "cell_type": "code",
   "execution_count": 271,
   "metadata": {},
   "outputs": [
    {
     "name": "stdout",
     "output_type": "stream",
     "text": [
      "12.001364256480219 \n",
      " 6 \n",
      " 17\n"
     ]
    },
    {
     "data": {
      "text/plain": [
       "733"
      ]
     },
     "execution_count": 271,
     "metadata": {},
     "output_type": "execute_result"
    }
   ],
   "source": [
    "# age needs inspection  \n",
    "age = data.Age[data.Age != ' ']\n",
    "age = pd.to_numeric(age)\n",
    "print(age.mean(),'\\n',age.min(), '\\n',age.max())\n",
    "len (age)"
   ]
  },
  {
   "cell_type": "code",
   "execution_count": 298,
   "metadata": {},
   "outputs": [
    {
     "name": "stderr",
     "output_type": "stream",
     "text": [
      "<ipython-input-298-cb68b934eafb>:4: UserWarning: FixedFormatter should only be used together with FixedLocator\n",
      "  ga.set_yticklabels(ga.get_yticks(), size = 15)\n",
      "<ipython-input-298-cb68b934eafb>:5: UserWarning: FixedFormatter should only be used together with FixedLocator\n",
      "  ga.set_xticklabels(ga.get_xticks(), size = 15)\n"
     ]
    },
    {
     "data": {
      "text/plain": [
       "[Text(4.0, 0, '4.0'),\n",
       " Text(6.0, 0, '6.0'),\n",
       " Text(8.0, 0, '8.0'),\n",
       " Text(10.0, 0, '10.0'),\n",
       " Text(12.0, 0, '12.0'),\n",
       " Text(14.0, 0, '14.0'),\n",
       " Text(16.0, 0, '16.0'),\n",
       " Text(18.0, 0, '18.0'),\n",
       " Text(20.0, 0, '20.0')]"
      ]
     },
     "execution_count": 298,
     "metadata": {},
     "output_type": "execute_result"
    },
    {
     "data": {
      "image/png": "[encoded data removed]",
      "text/plain": [
       "<Figure size 432x432 with 1 Axes>"
      ]
     },
     "metadata": {},
     "output_type": "display_data"
    }
   ],
   "source": [
    "\n",
    "ga = sns.set(rc={'figure.figsize':(6,6)})\n",
    "ga = sns.set_style('ticks')\n",
    "ga = sns.histplot(age,kde=False, binrange = (6,18), binwidth= 0.5, discrete=True)\n",
    "ga.set_yticklabels(ga.get_yticks(), size = 15)\n",
    "ga.set_xticklabels(ga.get_xticks(), size = 15)"
   ]
  },
  {
   "cell_type": "code",
   "execution_count": null,
   "metadata": {},
   "outputs": [],
   "source": []
  },
  {
   "cell_type": "code",
   "execution_count": null,
   "metadata": {},
   "outputs": [],
   "source": []
  }
 ],
 "metadata": {
  "hide_input": false,
  "kernelspec": {
   "display_name": "ttest",
   "language": "python",
   "name": "ttest"
  },
  "language_info": {
   "codemirror_mode": {
    "name": "ipython",
    "version": 3
   },
   "file_extension": ".py",
   "mimetype": "text/x-python",
   "name": "python",
   "nbconvert_exporter": "python",
   "pygments_lexer": "ipython3",
   "version": "3.8.3"
  },
  "toc": {
   "base_numbering": 1,
   "nav_menu": {},
   "number_sections": true,
   "sideBar": true,
   "skip_h1_title": false,
   "title_cell": "Table of Contents",
   "title_sidebar": "Contents",
   "toc_cell": true,
   "toc_position": {},
   "toc_section_display": true,
   "toc_window_display": true
  }
 },
 "nbformat": 4,
 "nbformat_minor": 4
}
